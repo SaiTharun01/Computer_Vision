{
 "cells": [
  {
   "cell_type": "code",
   "execution_count": 4,
   "metadata": {},
   "outputs": [],
   "source": [
    "import cv2\n",
    "\n",
    "\n",
    "## CALLBACK FUNCTION RECTANGLE\n",
    "def draw_circle(event,x,y,flags,param):\n",
    "    \n",
    "    global pt1,clicked\n",
    "    \n",
    "    if event == cv2.EVENT_LBUTTONDOWN:\n",
    "        \n",
    "        ## RESET THE CIRCLE\n",
    "        if clicked == True:\n",
    "            pt1 = (0,0)\n",
    "            clicked = False\n",
    "        \n",
    "        if clicked == False:\n",
    "            pt1 = (x,y)\n",
    "            clicked = True\n",
    "\n",
    "## GLOBAL VARIABLE\n",
    "pt1 = (0,0)\n",
    "clicked = False\n",
    "\n",
    "## CONNECT TO CALLBACK\n",
    "cap = cv2.VideoCapture(0)\n",
    "\n",
    "cv2.namedWindow('Test')\n",
    "cv2.setMouseCallback('Test',draw_circle)\n",
    "\n",
    "while True:\n",
    "    \n",
    "    ret,frame = cap.read()\n",
    "    \n",
    "    ## DRAWING ON THE FRAME BASED OFF THE GLOBAL VARIABLES\n",
    "    if clicked:\n",
    "        cv2.circle(frame,pt1,95,(0,0,255),2)\n",
    "        \n",
    "        \n",
    "    \n",
    "    cv2.imshow('Test',frame)\n",
    "    \n",
    "    if cv2.waitKey(1) & 0xFF == ord('q'):\n",
    "        break\n",
    "\n",
    "cap.release()\n",
    "cv2.destroyAllWindows()\n",
    "    \n"
   ]
  },
  {
   "cell_type": "code",
   "execution_count": null,
   "metadata": {},
   "outputs": [],
   "source": []
  }
 ],
 "metadata": {
  "kernelspec": {
   "display_name": "Python 3",
   "language": "python",
   "name": "python3"
  },
  "language_info": {
   "codemirror_mode": {
    "name": "ipython",
    "version": 3
   },
   "file_extension": ".py",
   "mimetype": "text/x-python",
   "name": "python",
   "nbconvert_exporter": "python",
   "pygments_lexer": "ipython3",
   "version": "3.6.6"
  }
 },
 "nbformat": 4,
 "nbformat_minor": 2
}
